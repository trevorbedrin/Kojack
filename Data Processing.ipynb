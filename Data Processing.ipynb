{
 "metadata": {
  "name": "",
  "signature": "sha256:545f07c43d23ccc8239e914e35918ea7e2ea15eb1af04b653285c6df660e14c4"
 },
 "nbformat": 3,
 "nbformat_minor": 0,
 "worksheets": [
  {
   "cells": [
    {
     "cell_type": "code",
     "collapsed": false,
     "input": [
      "import csv\n",
      "import numpy as np\n",
      "from datetime import datetime, timedelta\n",
      "from collections import defaultdict\n",
      "from pprint import pprint"
     ],
     "language": "python",
     "metadata": {},
     "outputs": [],
     "prompt_number": 1
    },
    {
     "cell_type": "code",
     "collapsed": false,
     "input": [
      "month_list = ['Jan','Feb','Mar','Apr','May','Jun','Jul','Aug','Sep','Oct','Nov','Dec']\n",
      "\n",
      "year_keys = [str(i) for i in range(2010, int(datetime.now().strftime('%Y')) + 1)]\n",
      "month_keys = ['Jan','Feb','Mar','Apr','May','Jun','Jul','Aug','Sep','Oct','Nov','Dec']\n",
      "day_keys = [\"%.2i\" % i for i in range(1,32)]\n",
      "hour_keys = [\"%.2i\" % i for i in range(0,24)]\n",
      "program_keys = []\n",
      "session_keys = []\n",
      "program_session_keys = []\n",
      "\n",
      "master_dict = {}"
     ],
     "language": "python",
     "metadata": {},
     "outputs": [],
     "prompt_number": 2
    },
    {
     "cell_type": "code",
     "collapsed": false,
     "input": [
      "with open('MetisSessionData2.csv') as csv_file:\n",
      "    csv_reader = csv.reader(csv_file)\n",
      "    header = csv_reader.next()\n",
      "    for row in csv_reader:\n",
      "        try:\n",
      "            if row[3] not in program_keys:\n",
      "                program_keys.append(row[3])\n",
      "            if row[1] not in session_keys:\n",
      "                session_keys.append(row[1])\n",
      "            if ' '.join((row[3], row[1])) not in program_session_keys:\n",
      "                program_session_keys.append(' '.join((row[3], row[1])))\n",
      "        except:\n",
      "            pass\n",
      "\n",
      "program_keys = sorted(program_keys)        \n",
      "session_keys = sorted(session_keys)        \n",
      "program_session_keys = sorted(program_session_keys)"
     ],
     "language": "python",
     "metadata": {},
     "outputs": [],
     "prompt_number": 3
    },
    {
     "cell_type": "code",
     "collapsed": false,
     "input": [
      "for year in year_keys:\n",
      "    master_dict[year] = {}\n",
      "    for month in month_keys:\n",
      "        master_dict[year][month] = {}\n",
      "        for day in day_keys:\n",
      "            master_dict[year][month][day] = {}\n",
      "            for hour in hour_keys:\n",
      "                master_dict[year][month][day][hour] = {'Users':0, 'Session_Total':0, 'Programs':[0 for i in program_keys], 'Sessions':[0 for i in session_keys], 'Program_Sessions':[0 for i in program_session_keys]}"
     ],
     "language": "python",
     "metadata": {},
     "outputs": [],
     "prompt_number": 4
    },
    {
     "cell_type": "code",
     "collapsed": false,
     "input": [
      "with open('MetisSessionData2.csv') as csv_file:\n",
      "    csv_reader = csv.reader(csv_file)\n",
      "    header = csv_reader.next()\n",
      "    for row in csv_reader:\n",
      "        year = int(row[9])\n",
      "        month = int(row[10])\n",
      "        day = int(row[11])\n",
      "        hour = int(row[12])\n",
      "        date = datetime(year, month, day, hour)\n",
      "        \n",
      "        duration = int(row[13])\n",
      "        program_session = ' '.join((row[3], row[1]))\n",
      "        p_index = program_keys.index(row[3])\n",
      "        s_index = session_keys.index(row[1])\n",
      "        ps_index = program_session_keys.index(program_session)\n",
      "        for i in range(0, duration):\n",
      "            new_date = date + timedelta(hours=i)\n",
      "            y = new_date.strftime('%Y')\n",
      "            m = new_date.strftime('%b')    \n",
      "            d = new_date.strftime('%d')    \n",
      "            h = new_date.strftime('%H') \n",
      "            master_dict[y][m][d][h]['Programs'][p_index] += 1\n",
      "            master_dict[y][m][d][h]['Sessions'][s_index] += 1\n",
      "            master_dict[y][m][d][h]['Program_Sessions'][ps_index] += 1"
     ],
     "language": "python",
     "metadata": {},
     "outputs": [],
     "prompt_number": 5
    },
    {
     "cell_type": "code",
     "collapsed": false,
     "input": [
      "with open('concurrency_data.csv') as csv_file:\n",
      "    csv_reader = csv.reader(csv_file)\n",
      "    header = csv_reader.next()\n",
      "    for row in csv_reader:\n",
      "        year = int(row[0])\n",
      "        month = month_list.index(row[1]) + 1\n",
      "        day = int(row[3])\n",
      "        hour = int(row[4])\n",
      "        date = datetime(year, month, day, hour)\n",
      "        y = date.strftime('%Y')\n",
      "        m = date.strftime('%b')    \n",
      "        d = date.strftime('%d')    \n",
      "        h = date.strftime('%H') \n",
      "        master_dict[y][m][d][h]['Users'] = int(row[5])\n",
      "        master_dict[y][m][d][h]['Session_Total'] = np.sum(master_dict[y][m][d][h]['Program_Sessions'])"
     ],
     "language": "python",
     "metadata": {},
     "outputs": [],
     "prompt_number": 6
    },
    {
     "cell_type": "code",
     "collapsed": false,
     "input": [
      "final_list = []\n",
      "header_list = ['Year','Month','Weekday','Day','Hour']\n",
      "header_list.extend(program_keys)\n",
      "header_list.extend(session_keys)\n",
      "header_list.extend(program_session_keys)\n",
      "header_list.extend(['Session_Total','Users'])\n",
      "final_list.append(header_list)"
     ],
     "language": "python",
     "metadata": {},
     "outputs": [],
     "prompt_number": 7
    },
    {
     "cell_type": "code",
     "collapsed": false,
     "input": [
      "for year in year_keys:\n",
      "    for month in month_keys:\n",
      "        for day in day_keys:\n",
      "            for hour in hour_keys:\n",
      "                try:\n",
      "                    date = datetime(int(year), month_list.index(month) + 1, int(day), int(hour))\n",
      "                    temp_list = [year, month, date.strftime('%a'), day, hour]\n",
      "                    temp_list.extend(master_dict[year][month][day][hour]['Program_Sessions'])\n",
      "                    temp_list.extend(master_dict[year][month][day][hour]['Programs'])\n",
      "                    temp_list.extend(master_dict[year][month][day][hour]['Sessions'])\n",
      "                    temp_list.extend([master_dict[year][month][day][hour]['Session_Total']])\n",
      "                    temp_list.extend([master_dict[year][month][day][hour]['Users']])\n",
      "                    final_list.append(temp_list)\n",
      "                except:\n",
      "                    pass"
     ],
     "language": "python",
     "metadata": {},
     "outputs": [],
     "prompt_number": 8
    },
    {
     "cell_type": "code",
     "collapsed": false,
     "input": [
      "with open('final_csv.csv', 'w') as csv_file:\n",
      "    csv_writer = csv.writer(csv_file)\n",
      "    for line in final_list:\n",
      "        csv_writer.writerow(line)"
     ],
     "language": "python",
     "metadata": {},
     "outputs": [],
     "prompt_number": 9
    },
    {
     "cell_type": "code",
     "collapsed": false,
     "input": [],
     "language": "python",
     "metadata": {},
     "outputs": []
    }
   ],
   "metadata": {}
  }
 ]
}